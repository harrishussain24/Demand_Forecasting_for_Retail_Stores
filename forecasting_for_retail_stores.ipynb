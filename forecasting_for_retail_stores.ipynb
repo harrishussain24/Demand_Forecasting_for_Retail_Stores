{
 "cells": [
  {
   "cell_type": "code",
   "execution_count": null,
   "id": "5eb1dd83-cc3a-46fc-99cd-aed9fbef4155",
   "metadata": {},
   "outputs": [],
   "source": [
    "import pandas as pd\n",
    "import matplotlib.pyplot as plt"
   ]
  },
  {
   "cell_type": "code",
   "execution_count": null,
   "id": "a19b961f-72cf-49dc-943e-0a682d1947f1",
   "metadata": {},
   "outputs": [],
   "source": [
    "filepath = \"you dataset path here...!\"\n",
    "df = pd.read_csv(filepath)\n",
    "print(df.head())"
   ]
  },
  {
   "cell_type": "code",
   "execution_count": null,
   "id": "068c2654-0927-4f2a-8fcb-76657add7938",
   "metadata": {},
   "outputs": [],
   "source": [
    "print(df.isnull().sum())"
   ]
  },
  {
   "cell_type": "code",
   "execution_count": null,
   "id": "355b477d-d343-486e-8afa-978a70210fba",
   "metadata": {},
   "outputs": [],
   "source": [
    "print(df.info())"
   ]
  },
  {
   "cell_type": "code",
   "execution_count": null,
   "id": "e91b1ed2-4e46-421b-99ca-3fd3ff297986",
   "metadata": {},
   "outputs": [],
   "source": [
    "df[\"Date\"] = pd.to_datetime(df[\"Date\"], format=\"%d-%m-%Y\")\n",
    "df[\"Year\"] = df[\"Date\"].dt.year\n",
    "df[\"Month\"] = df[\"Date\"].dt.month\n",
    "df[\"Week\"] = df[\"Date\"].dt.isocalendar().week\n",
    "df[\"Day\"] = df[\"Date\"].dt.day\n",
    "df[\"DayofWeek\"] = df[\"Date\"].dt.dayofweek\n",
    "df[\"isWeekend\"] = df[\"DayofWeek\"].apply(lambda x: 1 if x >= 5 else 0)\n",
    "\n",
    "print(df.head())"
   ]
  },
  {
   "cell_type": "code",
   "execution_count": null,
   "id": "dedb453a-0d66-4654-ac6b-05c8fb979ffd",
   "metadata": {},
   "outputs": [],
   "source": [
    "print(df.isnull().sum())"
   ]
  },
  {
   "cell_type": "code",
   "execution_count": null,
   "id": "edffd57e-3ec8-4f8c-9f8a-3770e5987ac8",
   "metadata": {},
   "outputs": [],
   "source": [
    "plt.figure(figsize=(12, 6))\n",
    "plt.plot(df[\"Date\"], df[\"Weekly_Sales\"], label=\"Sales Trend\", color=\"blue\")\n",
    "plt.xlabel(\"Date\")\n",
    "plt.ylabel(\"Weekly_Sales\")\n",
    "plt.title(\"Sales Trend Over Time\")\n",
    "plt.legend()\n",
    "plt.show()"
   ]
  },
  {
   "cell_type": "code",
   "execution_count": null,
   "id": "717f677b-6598-457e-83b7-4ef80c12c9b3",
   "metadata": {},
   "outputs": [],
   "source": [
    "from sklearn.preprocessing import MinMaxScaler\n",
    "\n",
    "scalar = MinMaxScaler()\n",
    "df[[\"Weekly_Sales\"]] = scalar.fit_transform(df[[\"Weekly_Sales\"]])"
   ]
  },
  {
   "cell_type": "code",
   "execution_count": null,
   "id": "2fe84a27-ffcb-43f4-973c-6fa193e07c8b",
   "metadata": {},
   "outputs": [],
   "source": [
    "from sklearn.model_selection import train_test_split\n",
    "\n",
    "X = df.drop(columns= [\"Weekly_Sales\", \"Date\"])\n",
    "y = df[\"Weekly_Sales\"]\n",
    "\n",
    "X_train, X_test, y_train, y_test = train_test_split(X, y, test_size=0.2, random_state=42)\n",
    "\n",
    "print(\"Training Data Shape : \", X_train.shape)\n",
    "print(\"Testing Data Shape : \", X_test.shape)"
   ]
  },
  {
   "cell_type": "code",
   "execution_count": null,
   "id": "3dfc2f79-dc6e-4921-adcd-7534377149dc",
   "metadata": {},
   "outputs": [],
   "source": [
    "pip install xgboost"
   ]
  },
  {
   "cell_type": "code",
   "execution_count": null,
   "id": "01b86afa-3100-4e45-87be-29a30b23c90a",
   "metadata": {},
   "outputs": [],
   "source": [
    "from xgboost import XGBRegressor\n",
    "from sklearn.metrics import mean_absolute_error, root_mean_squared_error\n",
    "\n",
    "#initializing and training xgboost model\n",
    "xgb_model = XGBRegressor(n_estimators= 200, learning_rate= 0.05, max_depth=6, random_state=42)\n",
    "xgb_model.fit(X_train, y_train)\n",
    "\n",
    "#making predictions\n",
    "y_pred_xgb = xgb_model.predict(X_test)\n",
    "\n",
    "#evaluating model\n",
    "mae_xgb = mean_absolute_error(y_test, y_pred_xgb)\n",
    "mse_xgb = root_mean_squared_error(y_test, y_pred_xgb)\n",
    "\n",
    "print(f\"XGBoost Reuslts: \")\n",
    "print(f\"MAE: {mae_xgb: .2f}\")\n",
    "print(f\"MSE: {mse_xgb: .2f}\")"
   ]
  },
  {
   "cell_type": "code",
   "execution_count": null,
   "id": "bc8ff3c7-8574-4468-9f96-459c397e3a05",
   "metadata": {},
   "outputs": [],
   "source": [
    "print(\"Mean Sales: \", df[\"Weekly_Sales\"].mean())"
   ]
  },
  {
   "cell_type": "code",
   "execution_count": null,
   "id": "753428bb-466d-4af4-a940-6bc99c552f73",
   "metadata": {},
   "outputs": [],
   "source": [
    "mape= (mae_xgb / df[\"Weekly_Sales\"].mean()) * 100\n",
    "print(f\"Mean Absolute Percentage Error : (mape) {mape: .2f}\" )"
   ]
  },
  {
   "cell_type": "code",
   "execution_count": null,
   "id": "2cc8be4c-9059-420a-bf94-89ab4c7261db",
   "metadata": {},
   "outputs": [],
   "source": [
    "pip install optuna"
   ]
  },
  {
   "cell_type": "code",
   "execution_count": null,
   "id": "63e3ada5-9d35-4cda-822b-82bb5d3ccad9",
   "metadata": {},
   "outputs": [],
   "source": [
    "import optuna\n",
    "from sklearn.model_selection import cross_val_score\n",
    "\n",
    "#optimization function\n",
    "def objective(trial):\n",
    "    #suggest hyperparameters\n",
    "    params = {\n",
    "        \"n_estimators\": trial.suggest_int(\"n_estimators\", 100, 500, step=50),\n",
    "        \"learning_rate\": trial.suggest_float(\"learning_rate\", 0.01, 0.3, log=True),\n",
    "        \"max_depth\": trial.suggest_int(\"max_depth\", 3, 10),\n",
    "        \"subsample\": trial.suggest_float(\"subsample\", 0.5, 1.0),\n",
    "        \"colsample_bytree\": trial.suggest_float(\"colsample_bytree\", 0.5, 1.0),\n",
    "    }\n",
    "\n",
    "    #training xgboost model with suggested parameters\n",
    "    model = XGBRegressor(**params, random_state=42)\n",
    "    model.fit(X_train, y_train)\n",
    "\n",
    "    #predicting and calculating RMSE\n",
    "    y_pred = model.predict(X_test)\n",
    "    rmse = root_mean_squared_error(y_test, y_pred)\n",
    "\n",
    "    return rmse"
   ]
  },
  {
   "cell_type": "code",
   "execution_count": null,
   "id": "db3e23e0-9363-4245-a1f5-2fd9691bf38f",
   "metadata": {},
   "outputs": [],
   "source": [
    "study = optuna.create_study(direction=\"minimize\") #we want to minimize rmse\n",
    "study.optimize(objective, n_trials=30)\n",
    "\n",
    "#best parameters found\n",
    "print(\"Best Hyperparameters: \", study.best_params)"
   ]
  },
  {
   "cell_type": "code",
   "execution_count": null,
   "id": "0e73298f-ee8f-44d4-9f78-8e328bfdea2e",
   "metadata": {},
   "outputs": [],
   "source": [
    "#getting best params from optuna\n",
    "best_params = study.best_params\n",
    "\n",
    "#training optimized xgboost model\n",
    "xgb_optimized = XGBRegressor(**best_params, random_state=42)\n",
    "xgb_optimized.fit(X_train, y_train)\n",
    "\n",
    "#making predicitons\n",
    "y_pred_xgb_opt = xgb_optimized.predict(X_test)\n",
    "\n",
    "#evaluating optimized model\n",
    "mae_opt = mean_absolute_error(y_test, y_pred_xgb_opt)\n",
    "rmse_opt = root_mean_squared_error(y_test, y_pred_xgb_opt)\n",
    "\n",
    "#result\n",
    "print(\"Optimized XGBoost Model Results: \")\n",
    "print(f\"MAE: {mae_opt: .2f}\")\n",
    "print(f\"RMSE: {rmse_opt: .2f}\")"
   ]
  },
  {
   "cell_type": "code",
   "execution_count": null,
   "id": "4cd60d68-d149-474e-97c1-eb93740776cd",
   "metadata": {},
   "outputs": [],
   "source": [
    "pip install tensorflow"
   ]
  },
  {
   "cell_type": "code",
   "execution_count": null,
   "id": "b91dfb86-ecf1-445e-b7ec-5c81494e396d",
   "metadata": {},
   "outputs": [],
   "source": [
    "import numpy as np\n",
    "import tensorflow as tf\n",
    "from tensorflow.keras.models import Sequential\n",
    "from tensorflow.keras.layers import LSTM, Dense, Dropout, Input\n",
    "from sklearn.preprocessing import MinMaxScaler\n",
    "from sklearn.model_selection import train_test_split\n",
    "\n",
    "#Sorting data by date\n",
    "df = df.sort_values(by=[\"Date\"])\n",
    "\n",
    "#scaling sales data\n",
    "scaler = MinMaxScaler()\n",
    "df[\"Weekly_Sales\"] = scalar.fit_transform(df[[\"Weekly_Sales\"]])\n",
    "\n",
    "#function to create sequence\n",
    "def create_sequence(data, seq_length):\n",
    "    X, y = [], []\n",
    "    for i in range(len(data) - seq_length):\n",
    "        X.append(data[i:i+ seq_length]) #past sequence\n",
    "        y.append(data[i+ seq_length]) #next value\n",
    "    return np.array(X), np.array(y)\n",
    "\n",
    "#defining sequence length\n",
    "SEQ_LENGTH = 30 \n",
    "\n",
    "#preparing dataset\n",
    "X, y = create_sequence(df[\"Weekly_Sales\"].values, SEQ_LENGTH)\n",
    "\n",
    "#reshaping for LSTM (samples, timestamps, features)\n",
    "X = X.reshape((X.shape[0], X.shape[1], 1))\n",
    "\n",
    "#spliting into training and tesdting data\n",
    "X_train, X_test, y_train, y_test = train_test_split(X, y, test_size=0.2, random_state=42)\n",
    "\n",
    "print(\"Training data shape: \", X_train.shape)\n",
    "print(\"Testing data shape: \", X_test.shape)"
   ]
  },
  {
   "cell_type": "code",
   "execution_count": null,
   "id": "d68a8a02-4259-4530-9d83-fa0b4db1028b",
   "metadata": {},
   "outputs": [],
   "source": [
    "#defining LSTM model \n",
    "FEATURES = 1\n",
    "\n",
    "model = Sequential([\n",
    "    Input(shape=(SEQ_LENGTH, FEATURES)),\n",
    "    LSTM(50, return_sequences=True), #first lstm layer\n",
    "    Dropout(0.2),\n",
    "    LSTM(50, return_sequences=False), #second layer\n",
    "    Dropout(0.2),\n",
    "    Dense(25), #Dense layer\n",
    "    Dense(1) #output layer\n",
    "])\n",
    "\n",
    "#compiling model\n",
    "model.compile(optimizer=\"adam\", loss=\"mse\")\n",
    "\n",
    "#Model summary\n",
    "model.summary()"
   ]
  },
  {
   "cell_type": "code",
   "execution_count": null,
   "id": "841fc81f-5ca0-4c0e-a300-ec99c67ca7c2",
   "metadata": {},
   "outputs": [],
   "source": [
    "#training model \n",
    "history = model.fit(X_train, y_train, epochs=50, batch_size=16, validation_data=(X_test, y_test))"
   ]
  },
  {
   "cell_type": "code",
   "execution_count": null,
   "id": "87993d62-b0dd-43f6-b505-85a69be4583d",
   "metadata": {},
   "outputs": [],
   "source": [
    "# Initialize and fit the scaler\n",
    "scaler = MinMaxScaler()\n",
    "scaler.fit(y_train.reshape(-1, 1))  # Fit it using training labels\n",
    "\n",
    "# Transform training and test data\n",
    "y_train_scaled = scaler.transform(y_train.reshape(-1, 1))\n",
    "y_test_scaled = scaler.transform(y_test.reshape(-1, 1))\n",
    "\n",
    "# Make predictions\n",
    "y_pred_lstm = model.predict(X_test)\n",
    "\n",
    "# Now inverse transform will work\n",
    "y_test_rescaled = scaler.inverse_transform(y_test_scaled)\n",
    "y_pred_rescaled = scaler.inverse_transform(y_pred_lstm)\n",
    "\n",
    "#plot actual vs predicted sales\n",
    "plt.figure(figsize=(10,5))\n",
    "plt.plot(y_test_rescaled, label=\"Actual Sales\", color=\"blue\")\n",
    "plt.plot(y_pred_rescaled, label=\"Predicted Sales\", color=\"red\")\n",
    "plt.xlabel(\"Times\")\n",
    "plt.ylabel(\"Sales\")\n",
    "plt.title(\"LSTM Sales Forecasting\")\n",
    "plt.legend()\n",
    "plt.show()         "
   ]
  },
  {
   "cell_type": "code",
   "execution_count": null,
   "id": "c8886826-dabf-49fe-b9eb-f6f8ad9dd594",
   "metadata": {},
   "outputs": [],
   "source": [
    "import joblib\n",
    "\n",
    "joblib.dump(model, \"sales_forecasting_model.pkl\")\n",
    "\n",
    "model.save(\"sales_forecasting_model.keras\")\n",
    "print(\"Model Saved Successfully\")"
   ]
  }
 ],
 "metadata": {
  "kernelspec": {
   "display_name": "Python [conda env:base] *",
   "language": "python",
   "name": "conda-base-py"
  },
  "language_info": {
   "codemirror_mode": {
    "name": "ipython",
    "version": 3
   },
   "file_extension": ".py",
   "mimetype": "text/x-python",
   "name": "python",
   "nbconvert_exporter": "python",
   "pygments_lexer": "ipython3",
   "version": "3.12.7"
  }
 },
 "nbformat": 4,
 "nbformat_minor": 5
}
